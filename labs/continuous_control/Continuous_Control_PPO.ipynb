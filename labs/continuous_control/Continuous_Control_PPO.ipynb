{
 "cells": [
  {
   "cell_type": "markdown",
   "metadata": {},
   "source": [
    "# Continuous Control\n",
    "\n",
    "---\n",
    "\n",
    "In this notebook, you will learn how to use the Unity ML-Agents environment for the second project of the [Deep Reinforcement Learning Nanodegree](https://www.udacity.com/course/deep-reinforcement-learning-nanodegree--nd893) program.\n",
    "\n",
    "### 1. Start the Environment\n",
    "\n",
    "We begin by importing the necessary packages.  If the code cell below returns an error, please revisit the project instructions to double-check that you have installed [Unity ML-Agents](https://github.com/Unity-Technologies/ml-agents/blob/master/docs/Installation.md) and [NumPy](http://www.numpy.org/)."
   ]
  },
  {
   "cell_type": "code",
   "execution_count": 1,
   "metadata": {},
   "outputs": [
    {
     "data": {
      "application/json": {
       "Software versions": [
        {
         "module": "Python",
         "version": "3.6.10 64bit [GCC 4.2.1 Compatible Apple LLVM 11.0.0 (clang-1100.0.33.16)]"
        },
        {
         "module": "IPython",
         "version": "7.15.0"
        },
        {
         "module": "OS",
         "version": "Darwin 19.5.0 x86_64 i386 64bit"
        },
        {
         "module": "numpy",
         "version": "1.19.0"
        },
        {
         "module": "unityagents",
         "version": "0.4.0"
        },
        {
         "module": "torch",
         "version": "1.5.1"
        },
        {
         "module": "matplotlib",
         "version": "3.2.2"
        },
        {
         "module": "pandas",
         "version": "1.0.5"
        },
        {
         "module": "statsmodels",
         "version": "The 'statsmodels' distribution was not found and is required by the application"
        },
        {
         "module": "version_information",
         "version": "1.0.3"
        }
       ]
      },
      "text/html": [
       "<table><tr><th>Software</th><th>Version</th></tr><tr><td>Python</td><td>3.6.10 64bit [GCC 4.2.1 Compatible Apple LLVM 11.0.0 (clang-1100.0.33.16)]</td></tr><tr><td>IPython</td><td>7.15.0</td></tr><tr><td>OS</td><td>Darwin 19.5.0 x86_64 i386 64bit</td></tr><tr><td>numpy</td><td>1.19.0</td></tr><tr><td>unityagents</td><td>0.4.0</td></tr><tr><td>torch</td><td>1.5.1</td></tr><tr><td>matplotlib</td><td>3.2.2</td></tr><tr><td>pandas</td><td>1.0.5</td></tr><tr><td>statsmodels</td><td>The 'statsmodels' distribution was not found and is required by the application</td></tr><tr><td>version_information</td><td>1.0.3</td></tr><tr><td colspan='2'>Sun Jun 28 11:41:57 2020 CEST</td></tr></table>"
      ],
      "text/latex": [
       "\\begin{tabular}{|l|l|}\\hline\n",
       "{\\bf Software} & {\\bf Version} \\\\ \\hline\\hline\n",
       "Python & 3.6.10 64bit [GCC 4.2.1 Compatible Apple LLVM 11.0.0 (clang-1100.0.33.16)] \\\\ \\hline\n",
       "IPython & 7.15.0 \\\\ \\hline\n",
       "OS & Darwin 19.5.0 x86\\_64 i386 64bit \\\\ \\hline\n",
       "numpy & 1.19.0 \\\\ \\hline\n",
       "unityagents & 0.4.0 \\\\ \\hline\n",
       "torch & 1.5.1 \\\\ \\hline\n",
       "matplotlib & 3.2.2 \\\\ \\hline\n",
       "pandas & 1.0.5 \\\\ \\hline\n",
       "statsmodels & The 'statsmodels' distribution was not found and is required by the application \\\\ \\hline\n",
       "version_information & 1.0.3 \\\\ \\hline\n",
       "\\hline \\multicolumn{2}{|l|}{Sun Jun 28 11:41:57 2020 CEST} \\\\ \\hline\n",
       "\\end{tabular}\n"
      ],
      "text/plain": [
       "Software versions\n",
       "Python 3.6.10 64bit [GCC 4.2.1 Compatible Apple LLVM 11.0.0 (clang-1100.0.33.16)]\n",
       "IPython 7.15.0\n",
       "OS Darwin 19.5.0 x86_64 i386 64bit\n",
       "numpy 1.19.0\n",
       "unityagents 0.4.0\n",
       "torch 1.5.1\n",
       "matplotlib 3.2.2\n",
       "pandas 1.0.5\n",
       "statsmodels The 'statsmodels' distribution was not found and is required by the application\n",
       "version_information 1.0.3\n",
       "Sun Jun 28 11:41:57 2020 CEST"
      ]
     },
     "execution_count": 1,
     "metadata": {},
     "output_type": "execute_result"
    }
   ],
   "source": [
    "%load_ext version_information\n",
    "%version_information numpy, unityagents, torch, matplotlib, pandas, statsmodels, version_information"
   ]
  },
  {
   "cell_type": "code",
   "execution_count": 2,
   "metadata": {},
   "outputs": [
    {
     "name": "stderr",
     "output_type": "stream",
     "text": [
      "INFO:unityagents:\n",
      "'Academy' started successfully!\n",
      "Unity Academy name: Academy\n",
      "        Number of Brains: 1\n",
      "        Number of External Brains : 1\n",
      "        Lesson number : 0\n",
      "        Reset Parameters :\n",
      "\t\tgoal_speed -> 1.0\n",
      "\t\tgoal_size -> 5.0\n",
      "Unity brain name: ReacherBrain\n",
      "        Number of Visual Observations (per agent): 0\n",
      "        Vector Observation space type: continuous\n",
      "        Vector Observation space size (per agent): 33\n",
      "        Number of stacked Vector Observation: 1\n",
      "        Vector Action space type: continuous\n",
      "        Vector Action space size (per agent): 4\n",
      "        Vector Action descriptions: , , , \n"
     ]
    }
   ],
   "source": [
    "from unityagents import UnityEnvironment\n",
    "import numpy as np\n",
    "\n",
    "# select this option to load version 1 (with a single agent) of the environment\n",
    "env = UnityEnvironment(file_name='Reacher.app')"
   ]
  },
  {
   "cell_type": "markdown",
   "metadata": {},
   "source": [
    "Environments contain **_brains_** which are responsible for deciding the actions of their associated agents. Here we check for the first brain available, and set it as the default brain we will be controlling from Python."
   ]
  },
  {
   "cell_type": "code",
   "execution_count": 3,
   "metadata": {},
   "outputs": [],
   "source": [
    "# get the default brain\n",
    "brain_name = env.brain_names[0]\n",
    "brain = env.brains[brain_name]"
   ]
  },
  {
   "cell_type": "markdown",
   "metadata": {},
   "source": [
    "### 2. Examine the State and Action Spaces\n",
    "\n",
    "Run the code cell below to print some information about the environment."
   ]
  },
  {
   "cell_type": "code",
   "execution_count": 4,
   "metadata": {},
   "outputs": [
    {
     "name": "stdout",
     "output_type": "stream",
     "text": [
      "Number of agents: 1\n",
      "Size of each action: 4\n",
      "There are 1 agents. Each observes a state with length: 33\n",
      "The state for the first agent looks like: [ 0.00000000e+00 -4.00000000e+00  0.00000000e+00  1.00000000e+00\n",
      " -0.00000000e+00 -0.00000000e+00 -4.37113883e-08  0.00000000e+00\n",
      "  0.00000000e+00  0.00000000e+00  0.00000000e+00  0.00000000e+00\n",
      "  0.00000000e+00  0.00000000e+00 -1.00000000e+01  0.00000000e+00\n",
      "  1.00000000e+00 -0.00000000e+00 -0.00000000e+00 -4.37113883e-08\n",
      "  0.00000000e+00  0.00000000e+00  0.00000000e+00  0.00000000e+00\n",
      "  0.00000000e+00  0.00000000e+00  5.75471878e+00 -1.00000000e+00\n",
      "  5.55726671e+00  0.00000000e+00  1.00000000e+00  0.00000000e+00\n",
      " -1.68164849e-01]\n"
     ]
    }
   ],
   "source": [
    "# reset the environment\n",
    "env_info = env.reset(train_mode=True)[brain_name]\n",
    "\n",
    "# number of agents\n",
    "num_agents = len(env_info.agents)\n",
    "print('Number of agents:', num_agents)\n",
    "\n",
    "# size of each action\n",
    "action_size = brain.vector_action_space_size\n",
    "print('Size of each action:', action_size)\n",
    "\n",
    "# examine the state space \n",
    "states = env_info.vector_observations\n",
    "state_size = states.shape[1]\n",
    "print('There are {} agents. Each observes a state with length: {}'.format(states.shape[0], state_size))\n",
    "print('The state for the first agent looks like:', states[0])"
   ]
  },
  {
   "cell_type": "markdown",
   "metadata": {},
   "source": [
    "### 3. Take Random Actions in the Environment\n",
    "\n",
    "In the next code cell, you will learn how to use the Python API to control the agent and receive feedback from the environment.\n",
    "\n",
    "Note that **in this coding environment, you will not be able to watch the agents while they are training**, and you should set `train_mode=True` to restart the environment."
   ]
  },
  {
   "cell_type": "code",
   "execution_count": 5,
   "metadata": {},
   "outputs": [
    {
     "name": "stdout",
     "output_type": "stream",
     "text": [
      "Total score (averaged over agents) this episode: 0.0\n"
     ]
    }
   ],
   "source": [
    "env_info = env.reset(train_mode=False)[brain_name]      # reset the environment    \n",
    "states = env_info.vector_observations                  # get the current state (for each agent)\n",
    "scores = np.zeros(num_agents)                          # initialize the score (for each agent)\n",
    "while False:\n",
    "    actions = np.random.randn(num_agents, action_size) # select an action (for each agent)\n",
    "    actions = np.clip(actions, -1, 1)                  # all actions between -1 and 1\n",
    "    env_info = env.step(actions)[brain_name]           # send all actions to tne environment\n",
    "    next_states = env_info.vector_observations         # get next state (for each agent)\n",
    "    rewards = env_info.rewards                         # get reward (for each agent)\n",
    "    dones = env_info.local_done                        # see if episode finished\n",
    "    scores += env_info.rewards                         # update the score (for each agent)\n",
    "    states = next_states                               # roll over states to next time step\n",
    "    if np.any(dones):                                  # exit loop if episode finished\n",
    "        break\n",
    "print('Total score (averaged over agents) this episode: {}'.format(np.mean(scores)))"
   ]
  },
  {
   "cell_type": "markdown",
   "metadata": {},
   "source": [
    "### 4. It's Your Turn!\n",
    "\n",
    "Now it's your turn to train your own agent to solve the environment!  A few **important notes**:\n",
    "- When training the environment, set `train_mode=True`, so that the line for resetting the environment looks like the following:\n",
    "```python\n",
    "env_info = env.reset(train_mode=True)[brain_name]\n",
    "```\n",
    "- To structure your work, you're welcome to work directly in this Jupyter notebook, or you might like to start over with a new file!  You can see the list of files in the workspace by clicking on **_Jupyter_** in the top left corner of the notebook.\n",
    "- In this coding environment, you will not be able to watch the agents while they are training.  However, **_after training the agents_**, you can download the saved model weights to watch the agents on your own machine! "
   ]
  },
  {
   "cell_type": "code",
   "execution_count": 6,
   "metadata": {},
   "outputs": [],
   "source": [
    "%load_ext autoreload\n",
    "%autoreload 2\n",
    "from PPO.agent import Agent, compute_advantages, compute_gae\n",
    "agent = Agent(state_size, action_size, seed=0)"
   ]
  },
  {
   "cell_type": "code",
   "execution_count": 7,
   "metadata": {},
   "outputs": [],
   "source": [
    "from collections import deque\n",
    "from matplotlib import pyplot as plt\n",
    "import pandas as pd\n",
    "import torch\n",
    "import time\n",
    "\n",
    "env_info = env.reset(train_mode=True)[brain_name]"
   ]
  },
  {
   "cell_type": "code",
   "execution_count": 8,
   "metadata": {},
   "outputs": [],
   "source": [
    "def plot_results(results, rolling_window=100):\n",
    "    # plot the scores\n",
    "    fig = plt.figure()\n",
    "    ax = fig.add_subplot(111)\n",
    "    plt.plot(np.arange(len(results)), results)\n",
    "    rolling_mean = pd.Series(scores).rolling(rolling_window).mean()\n",
    "    plt.plot(rolling_mean);\n",
    "    plt.ylabel('Score')\n",
    "    plt.xlabel('Episode #')\n",
    "    plt.show()"
   ]
  },
  {
   "cell_type": "code",
   "execution_count": null,
   "metadata": {
    "scrolled": true
   },
   "outputs": [
    {
     "name": "stdout",
     "output_type": "stream",
     "text": [
      "\n",
      "NN ARCHITECURES:\n",
      "Actor(\n",
      "  (fc1): Linear(in_features=33, out_features=64, bias=True)\n",
      "  (fc2): Linear(in_features=64, out_features=16, bias=True)\n",
      "  (fc3): Linear(in_features=16, out_features=4, bias=True)\n",
      ")\n",
      "Critic(\n",
      "  (fcs1): Linear(in_features=33, out_features=64, bias=True)\n",
      "  (fc2): Linear(in_features=64, out_features=16, bias=True)\n",
      "  (fc3): Linear(in_features=16, out_features=1, bias=True)\n",
      ")\n",
      "\n",
      "TRAINING:\n",
      "*** Episode 30\tAverage Score: 0.68\t σ:0.610295\t Time: 00:01:28 *** \n",
      "Episode 54\tScore: 0.30"
     ]
    }
   ],
   "source": [
    "from collections import deque\n",
    "import pickle\n",
    "import torch\n",
    "from PPO.utils import Trajectory\n",
    "\n",
    "episodes = 3000\n",
    "rand_seed = 42\n",
    "print_every = 30\n",
    "\n",
    "scores = []\n",
    "entropies = []\n",
    "scores_std = []\n",
    "scores_avg = []\n",
    "scores_window = deque(maxlen=100)\n",
    "\n",
    "SOLVED = False\n",
    "\n",
    "print('\\nNN ARCHITECURES:')\n",
    "print(agent.policy.actor_body)\n",
    "print(agent.policy.critic_body)\n",
    "\n",
    "print('\\nTRAINING:')\n",
    "time_start = time.time()\n",
    "\n",
    "for episode in range(1, episodes+1):\n",
    "    env_info = env.reset(train_mode=True)[brain_name]\n",
    "    states = env_info.vector_observations\n",
    "    trject = Trajectory()\n",
    "    entropy = 0\n",
    "    while True:\n",
    "        actions, log_probs, values, entropy_ = agent.act(states)\n",
    "        env_info = env.step(actions.cpu().numpy())[brain_name]\n",
    "        next_states = env_info.vector_observations         # get next state (for each agent)\n",
    "        rewards = env_info.rewards                         # get reward (for each agent)\n",
    "        dones = env_info.local_done                         # see if episode finished\n",
    "        trject.add(states, rewards, log_probs, actions, values, dones)\n",
    "        states = next_states\n",
    "        entropy += entropy_\n",
    "        if np.any(dones):\n",
    "            break\n",
    "            \n",
    "    _, _, next_value, _ = agent.act(next_states)\n",
    "    returns = compute_gae(next_value, trject)\n",
    "    advantages = compute_advantages(returns, trject['value'])\n",
    "    agent.step(trject, returns, advantages)\n",
    "    \n",
    "    scores.append(trject.score)\n",
    "    entropies.append(entropy)\n",
    "    scores_window.append(trject.score)\n",
    "    scores_avg.append(np.mean(scores_window))\n",
    "    scores_std.append(np.std(scores_window))\n",
    "    \n",
    "    print('\\rEpisode {}\\tScore: {:.2f}'.format(episode, trject.score), end=\"\")\n",
    "    if episode % print_every == 0:\n",
    "        torch.save(agent.policy.state_dict(), 'policy.pth')\n",
    "        s = (int)(time.time() - time_start)\n",
    "        print('\\r*** Episode {}\\tAverage Score: {:.2f}\\t σ:{:2f}\\t Time: {:02}:{:02}:{:02} *** '\\\n",
    "              .format(episode, np.mean(scores_window), np.std(scores_window), s//3600, s%3600//60, s%60)) \n",
    "    if np.mean(scores_window)>=30.0:\n",
    "        print('\\nEnvironment solved in {:d} episodes!\\tAverage Score: {:.2f}'.format(episode, np.mean(scores_window)))\n",
    "        torch.save(agent.policy.state_dict(), f'final_policy.pth')\n",
    "        break"
   ]
  },
  {
   "cell_type": "code",
   "execution_count": null,
   "metadata": {},
   "outputs": [],
   "source": [
    "plot_results(scores)"
   ]
  }
 ],
 "metadata": {
  "kernelspec": {
   "display_name": "Python 3",
   "language": "python",
   "name": "python3"
  },
  "language_info": {
   "codemirror_mode": {
    "name": "ipython",
    "version": 3
   },
   "file_extension": ".py",
   "mimetype": "text/x-python",
   "name": "python",
   "nbconvert_exporter": "python",
   "pygments_lexer": "ipython3",
   "version": "3.6.10"
  }
 },
 "nbformat": 4,
 "nbformat_minor": 2
}
