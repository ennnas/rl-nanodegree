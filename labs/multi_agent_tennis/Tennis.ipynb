{
 "cells": [
  {
   "cell_type": "markdown",
   "metadata": {},
   "source": [
    "# Collaboration and Competition\n",
    "\n",
    "---\n",
    "\n",
    "In this notebook, you will learn how to use the Unity ML-Agents environment for the third project of the [Deep Reinforcement Learning Nanodegree](https://www.udacity.com/course/deep-reinforcement-learning-nanodegree--nd893) program.\n",
    "\n",
    "### 1. Start the Environment\n",
    "\n",
    "We begin by importing the necessary packages.  If the code cell below returns an error, please revisit the project instructions to double-check that you have installed [Unity ML-Agents](https://github.com/Unity-Technologies/ml-agents/blob/master/docs/Installation.md) and [NumPy](http://www.numpy.org/)."
   ]
  },
  {
   "cell_type": "code",
   "execution_count": 1,
   "metadata": {},
   "outputs": [],
   "source": [
    "from unityagents import UnityEnvironment\n",
    "import numpy as np"
   ]
  },
  {
   "cell_type": "markdown",
   "metadata": {},
   "source": [
    "Next, we will start the environment!  **_Before running the code cell below_**, change the `file_name` parameter to match the location of the Unity environment that you downloaded.\n",
    "\n",
    "- **Mac**: `\"path/to/Tennis.app\"`\n",
    "- **Windows** (x86): `\"path/to/Tennis_Windows_x86/Tennis.exe\"`\n",
    "- **Windows** (x86_64): `\"path/to/Tennis_Windows_x86_64/Tennis.exe\"`\n",
    "- **Linux** (x86): `\"path/to/Tennis_Linux/Tennis.x86\"`\n",
    "- **Linux** (x86_64): `\"path/to/Tennis_Linux/Tennis.x86_64\"`\n",
    "- **Linux** (x86, headless): `\"path/to/Tennis_Linux_NoVis/Tennis.x86\"`\n",
    "- **Linux** (x86_64, headless): `\"path/to/Tennis_Linux_NoVis/Tennis.x86_64\"`\n",
    "\n",
    "For instance, if you are using a Mac, then you downloaded `Tennis.app`.  If this file is in the same folder as the notebook, then the line below should appear as follows:\n",
    "```\n",
    "env = UnityEnvironment(file_name=\"Tennis.app\")\n",
    "```"
   ]
  },
  {
   "cell_type": "code",
   "execution_count": 2,
   "metadata": {},
   "outputs": [
    {
     "name": "stderr",
     "output_type": "stream",
     "text": [
      "INFO:unityagents:\n",
      "'Academy' started successfully!\n",
      "Unity Academy name: Academy\n",
      "        Number of Brains: 1\n",
      "        Number of External Brains : 1\n",
      "        Lesson number : 0\n",
      "        Reset Parameters :\n",
      "\t\t\n",
      "Unity brain name: TennisBrain\n",
      "        Number of Visual Observations (per agent): 0\n",
      "        Vector Observation space type: continuous\n",
      "        Vector Observation space size (per agent): 8\n",
      "        Number of stacked Vector Observation: 3\n",
      "        Vector Action space type: continuous\n",
      "        Vector Action space size (per agent): 2\n",
      "        Vector Action descriptions: , \n"
     ]
    }
   ],
   "source": [
    "env = UnityEnvironment(file_name=\"Tennis.app\", no_graphics=True)"
   ]
  },
  {
   "cell_type": "markdown",
   "metadata": {},
   "source": [
    "Environments contain **_brains_** which are responsible for deciding the actions of their associated agents. Here we check for the first brain available, and set it as the default brain we will be controlling from Python."
   ]
  },
  {
   "cell_type": "code",
   "execution_count": 3,
   "metadata": {},
   "outputs": [],
   "source": [
    "# get the default brain\n",
    "brain_name = env.brain_names[0]\n",
    "brain = env.brains[brain_name]"
   ]
  },
  {
   "cell_type": "markdown",
   "metadata": {},
   "source": [
    "### 2. Examine the State and Action Spaces\n",
    "\n",
    "In this environment, two agents control rackets to bounce a ball over a net. If an agent hits the ball over the net, it receives a reward of +0.1.  If an agent lets a ball hit the ground or hits the ball out of bounds, it receives a reward of -0.01.  Thus, the goal of each agent is to keep the ball in play.\n",
    "\n",
    "The observation space consists of 8 variables corresponding to the position and velocity of the ball and racket. Two continuous actions are available, corresponding to movement toward (or away from) the net, and jumping. \n",
    "\n",
    "Run the code cell below to print some information about the environment."
   ]
  },
  {
   "cell_type": "code",
   "execution_count": 4,
   "metadata": {},
   "outputs": [
    {
     "name": "stdout",
     "output_type": "stream",
     "text": [
      "Number of agents: 2\n",
      "Size of each action: 2\n",
      "There are 2 agents. Each observes a state with length: 24\n",
      "The state for the first agent looks like: [ 0.          0.          0.          0.          0.          0.\n",
      "  0.          0.          0.          0.          0.          0.\n",
      "  0.          0.          0.          0.         -6.65278625 -1.5\n",
      " -0.          0.          6.83172083  6.         -0.          0.        ]\n"
     ]
    }
   ],
   "source": [
    "# reset the environment\n",
    "env_info = env.reset(train_mode=True)[brain_name]\n",
    "\n",
    "# number of agents \n",
    "num_agents = len(env_info.agents)\n",
    "print('Number of agents:', num_agents)\n",
    "\n",
    "# size of each action\n",
    "action_size = brain.vector_action_space_size\n",
    "print('Size of each action:', action_size)\n",
    "\n",
    "# examine the state space \n",
    "states = env_info.vector_observations\n",
    "state_size = states.shape[1]\n",
    "print('There are {} agents. Each observes a state with length: {}'.format(states.shape[0], state_size))\n",
    "print('The state for the first agent looks like:', states[0])"
   ]
  },
  {
   "cell_type": "markdown",
   "metadata": {},
   "source": [
    "### 3. Take Random Actions in the Environment\n",
    "\n",
    "In the next code cell, you will learn how to use the Python API to control the agents and receive feedback from the environment.\n",
    "\n",
    "Once this cell is executed, you will watch the agents' performance, if they select actions at random with each time step.  A window should pop up that allows you to observe the agents.\n",
    "\n",
    "Of course, as part of the project, you'll have to change the code so that the agents are able to use their experiences to gradually choose better actions when interacting with the environment!"
   ]
  },
  {
   "cell_type": "code",
   "execution_count": 5,
   "metadata": {},
   "outputs": [
    {
     "name": "stdout",
     "output_type": "stream",
     "text": [
      "Score (max over agents) from episode 1: 0.0\n"
     ]
    }
   ],
   "source": [
    "for i in range(1, 2):                                      # play game for 5 episodes\n",
    "    env_info = env.reset(train_mode=False)[brain_name]     # reset the environment    \n",
    "    states = env_info.vector_observations                  # get the current state (for each agent)\n",
    "    scores = np.zeros(num_agents)                          # initialize the score (for each agent)\n",
    "    while True:\n",
    "        actions = np.random.randn(num_agents, action_size) # select an action (for each agent)\n",
    "        actions = np.clip(actions, -1, 1)                  # all actions between -1 and 1\n",
    "        env_info = env.step(actions)[brain_name]           # send all actions to tne environment\n",
    "        next_states = env_info.vector_observations         # get next state (for each agent)\n",
    "        rewards = env_info.rewards                         # get reward (for each agent)\n",
    "        dones = env_info.local_done                        # see if episode finished\n",
    "        scores += env_info.rewards                         # update the score (for each agent)\n",
    "        states = next_states                               # roll over states to next time step\n",
    "        if np.any(dones):                                  # exit loop if episode finished\n",
    "            break\n",
    "    print('Score (max over agents) from episode {}: {}'.format(i, np.max(scores)))"
   ]
  },
  {
   "cell_type": "markdown",
   "metadata": {},
   "source": [
    "### 4. It's Your Turn!\n",
    "\n",
    "Now it's your turn to train your own agent to solve the environment!  When training the environment, set `train_mode=True`, so that the line for resetting the environment looks like the following:\n",
    "```python\n",
    "env_info = env.reset(train_mode=True)[brain_name]\n",
    "```"
   ]
  },
  {
   "cell_type": "code",
   "execution_count": 6,
   "metadata": {},
   "outputs": [],
   "source": [
    "%load_ext autoreload\n",
    "%autoreload 2\n",
    "\n",
    "from collections import deque\n",
    "from maddpg import MADDPG\n",
    "from utils import ReplayBuffer\n",
    "import torch\n",
    "\n",
    "RAND_SEED = 0\n",
    "\n",
    "agents = MADDPG(state_size=state_size, action_size=action_size, random_seed=RAND_SEED, n_agents=num_agents)"
   ]
  },
  {
   "cell_type": "code",
   "execution_count": 7,
   "metadata": {},
   "outputs": [],
   "source": [
    "def run_episode(agent, train_mode=True):\n",
    "    \"\"\"Runs a single episode of the environment.\n",
    "    Params\n",
    "    ======\n",
    "        agent (Agent): agent object from which to collect the experience\n",
    "    \"\"\"  \n",
    "    env_info = env.reset(train_mode=train_mode)[brain_name]# reset the environment    \n",
    "    states = env_info.vector_observations                  # get the current state (for each agent)\n",
    "    scores = np.zeros(num_agents)                          # initialize the score (for each agent)\n",
    "    while True:\n",
    "        actions = agent.act(states)                        # select an action (for each agent)\n",
    "        env_info = env.step(actions)[brain_name]           # send all actions to the environment\n",
    "        next_states = env_info.vector_observations         # get next state (for each agent)\n",
    "        rewards = env_info.rewards                         # get reward (for each agent)\n",
    "        dones = env_info.local_done                        # see if episode finished\n",
    "        scores += rewards                                  # update the score (for each agent)\n",
    "        if train_mode:\n",
    "            agent.step(states, actions, rewards, next_states, dones)\n",
    "        states = next_states                               # roll over states to next time step\n",
    "        if np.any(dones):                                  # exit loop if episode finished\n",
    "            break\n",
    "    return scores"
   ]
  },
  {
   "cell_type": "code",
   "execution_count": 8,
   "metadata": {},
   "outputs": [],
   "source": [
    "def train_agent(agent, n_episodes=500, print_each=100, solve_window_size=100, solve_score=0.5):\n",
    "    \"\"\"Train a multi-agent DDPG model.\n",
    "    Params\n",
    "    ======\n",
    "        agent (Agent): agent object to be trained\n",
    "        n_episodes (int): number of episodes\n",
    "        print_each (int): number of episodes to skip before printing current score\n",
    "        solve_window_size (int): number of consecutive episodes to consider the environment solved\n",
    "        solve_score (int): minimum average score to reach after solve_window_size\n",
    "    \"\"\"\n",
    "    all_scores = []\n",
    "    scores = []\n",
    "    scores_window = deque(maxlen=solve_window_size)\n",
    "    for i in range(1, n_episodes+1):        \n",
    "        episode_scores = run_episode(agent)\n",
    "        score = max(episode_scores)\n",
    "        all_scores.append(episode_scores)\n",
    "        scores.append(score)\n",
    "        scores_window.append(score)\n",
    "        avg_score = np.mean(scores_window)\n",
    "        end = '\\n' if (i%print_each == 0 or avg_score >= solve_score) else ''\n",
    "        print(\"\\rEpisode #{:3d}  |  \"\n",
    "              \"Score: {:+6.2f}  |  \"\n",
    "              \"Avg. Score: {:+6.2f}\".format(i, score, avg_score),\n",
    "              end=end\n",
    "        )\n",
    "        if avg_score >= solve_score and i >= solve_window_size:\n",
    "            print('Environment solved in {} episodes!'.format(i))\n",
    "            break\n",
    "\n",
    "    # save model after all episodes\n",
    "    for idx, agent in enumerate(agent.agents):\n",
    "        torch.save(agent.actor.state_dict(), f'model_actor_{idx}.pt')\n",
    "        torch.save(agent.critic.state_dict(), f'model_critic_{idx}.pt')\n",
    "    print('Model saved!')\n",
    "    \n",
    "    if np.mean(scores_window) < solve_score:\n",
    "        print('Agent could not solve the environment in {} episodes'.format(n_episodes))\n",
    "    \n",
    "    return all_scores"
   ]
  },
  {
   "cell_type": "code",
   "execution_count": 9,
   "metadata": {},
   "outputs": [
    {
     "name": "stdout",
     "output_type": "stream",
     "text": [
      "Episode #100  |  Score:  +0.00  |  Avg. Score:  +0.01\n",
      "Episode #200  |  Score:  +0.00  |  Avg. Score:  +0.02\n",
      "Episode #300  |  Score:  +0.00  |  Avg. Score:  +0.01\n",
      "Episode #400  |  Score:  +0.00  |  Avg. Score:  +0.02\n",
      "Episode #500  |  Score:  +0.00  |  Avg. Score:  +0.02\n",
      "Episode #600  |  Score:  +0.00  |  Avg. Score:  +0.06\n",
      "Episode #700  |  Score:  +0.10  |  Avg. Score:  +0.07\n",
      "Episode #800  |  Score:  +0.00  |  Avg. Score:  +0.08\n",
      "Episode #900  |  Score:  +0.10  |  Avg. Score:  +0.07\n",
      "Episode #1000  |  Score:  +0.10  |  Avg. Score:  +0.06\n",
      "Episode #1100  |  Score:  +0.10  |  Avg. Score:  +0.07\n",
      "Episode #1200  |  Score:  +0.10  |  Avg. Score:  +0.10\n",
      "Episode #1300  |  Score:  +0.40  |  Avg. Score:  +0.11\n",
      "Episode #1400  |  Score:  +0.30  |  Avg. Score:  +0.14\n",
      "Episode #1500  |  Score:  +0.00  |  Avg. Score:  +0.33\n",
      "Episode #1600  |  Score:  +0.00  |  Avg. Score:  +0.22\n",
      "Episode #1631  |  Score:  +2.70  |  Avg. Score:  +0.50\n",
      "Environment solved in 1631 episodes!\n",
      "Model saved!\n",
      "CPU times: user 10h 15min 56s, sys: 14min 35s, total: 10h 30min 32s\n",
      "Wall time: 1h 33min 28s\n"
     ]
    }
   ],
   "source": [
    "%%time\n",
    "scores = train_agent(agents, n_episodes=3000, print_each=100, solve_score=0.5)"
   ]
  },
  {
   "cell_type": "code",
   "execution_count": 15,
   "metadata": {},
   "outputs": [
    {
     "data": {
      "image/png": "[encoded data removed]",
      "text/plain": [
       "<Figure size 1080x360 with 1 Axes>"
      ]
     },
     "metadata": {
      "needs_background": "light"
     },
     "output_type": "display_data"
    }
   ],
   "source": [
    "from matplotlib import pyplot as plt \n",
    "import pandas as pd \n",
    "\n",
    "fig, ax = plt.subplots(figsize=(15, 5))\n",
    "max_score = [max(x) for x in scores]\n",
    "ax.plot(max_score, label='Score')\n",
    "pd.Series(max_score).rolling(100, 1).mean().plot(ax=ax, label='MA(100)')\n",
    "ax.axhline(0.5, ls='--', lw=1, c='red')\n",
    "ax.set_xlabel('Episode #')\n",
    "ax.set_yticks(list(set(list(plt.yticks()[0]) + [0.5])))\n",
    "ax.legend(loc='upper left');"
   ]
  },
  {
   "cell_type": "markdown",
   "metadata": {},
   "source": [
    "### 5. Loading and executing DDPG Agent\n",
    "As the model weights are saved, we can load them into a new agent."
   ]
  },
  {
   "cell_type": "code",
   "execution_count": 17,
   "metadata": {},
   "outputs": [],
   "source": [
    "MODEL_FOLDER = f'./models/'\n",
    "trained_agent = MADDPG(n_agents=num_agents, state_size=state_size, action_size=action_size, random_seed=0)\n",
    "for idx, agent in enumerate(trained_agent.agents):\n",
    "    agent.actor.load_state_dict(torch.load(MODEL_FOLDER + f'model_actor_{idx}.pt'))\n",
    "    agent.critic.load_state_dict(torch.load(MODEL_FOLDER + f'model_critic_{idx}.pt'))"
   ]
  },
  {
   "cell_type": "code",
   "execution_count": 19,
   "metadata": {},
   "outputs": [
    {
     "data": {
      "text/plain": [
       "array([2.60000004, 2.60000004])"
      ]
     },
     "execution_count": 19,
     "metadata": {},
     "output_type": "execute_result"
    }
   ],
   "source": [
    "run_episode(trained_agent, train_mode=False)"
   ]
  }
 ],
 "metadata": {
  "kernelspec": {
   "display_name": "Python 3",
   "language": "python",
   "name": "python3"
  },
  "language_info": {
   "codemirror_mode": {
    "name": "ipython",
    "version": 3
   },
   "file_extension": ".py",
   "mimetype": "text/x-python",
   "name": "python",
   "nbconvert_exporter": "python",
   "pygments_lexer": "ipython3",
   "version": "3.6.10"
  }
 },
 "nbformat": 4,
 "nbformat_minor": 2
}
